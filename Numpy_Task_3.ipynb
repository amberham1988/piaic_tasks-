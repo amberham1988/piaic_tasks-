{
  "nbformat": 4,
  "nbformat_minor": 0,
  "metadata": {
    "kernelspec": {
      "display_name": "Python 3",
      "language": "python",
      "name": "python3"
    },
    "language_info": {
      "codemirror_mode": {
        "name": "ipython",
        "version": 3
      },
      "file_extension": ".py",
      "mimetype": "text/x-python",
      "name": "python",
      "nbconvert_exporter": "python",
      "pygments_lexer": "ipython3",
      "version": "3.7.4"
    },
    "colab": {
      "name": "Copy of Numpy_Task3-checkpoint.ipynbCorrectedOne.txt",
      "provenance": [],
      "collapsed_sections": []
    }
  },
  "cells": [
    {
      "cell_type": "markdown",
      "metadata": {
        "id": "FY58YPqYgCr3"
      },
      "source": [
        "# Election Results\n",
        "\n",
        "You’re part of an impartial research group that conducts phone surveys prior to local elections. During this election season, the group conducted a survey to determine how many people would vote for I_Khan vs. S_Sharif in the presidential election.\n",
        "\n",
        "Now that the election has occurred, your group wants to compare the survey responses to the actual results.\n",
        "\n",
        "Was your survey a good indicator? Let’s find out!"
      ]
    },
    {
      "cell_type": "markdown",
      "metadata": {
        "id": "PXEoNLoDgCse"
      },
      "source": [
        "# PROJECT STEPS"
      ]
    },
    {
      "cell_type": "markdown",
      "metadata": {
        "id": "uZFlZHQBgCsi"
      },
      "source": [
        "1.First, import numpy and matplotlib."
      ]
    },
    {
      "cell_type": "code",
      "metadata": {
        "id": "oQtExVDtgCsk"
      },
      "source": [
        "#type your code here\n",
        "\n",
        "import numpy as np\n",
        "import matplotlib.pyplot as plt"
      ],
      "execution_count": null,
      "outputs": []
    },
    {
      "cell_type": "markdown",
      "metadata": {
        "id": "kwQXPdWXgCsq"
      },
      "source": [
        "2.There is a list given of the different survey responses.\n",
        "\n",
        "Calculate the number of people who answered ‘I_Khan’ and save the answer to the variable total_Khan.\n",
        "\n",
        "Print the variable to the terminal to see its value."
      ]
    },
    {
      "cell_type": "code",
      "metadata": {
        "id": "5lGCBII1OS3Z"
      },
      "source": [
        ""
      ],
      "execution_count": null,
      "outputs": []
    },
    {
      "cell_type": "code",
      "metadata": {
        "id": "VZM2uv9egCsr",
        "colab": {
          "base_uri": "https://localhost:8080/"
        },
        "outputId": "cc0a5574-7621-4c8f-f316-d0046a733079"
      },
      "source": [
        "survey_responses = ['I_Khan', 'S_Sharif', 'I_Khan', 'I_Khan', 'I_Khan','S_Sharif',\n",
        "                    'S_Sharif', 'I_Khan', 'I_Khan', 'I_Khan', 'S_Sharif', 'S_Sharif',\n",
        "                    'I_Khan', 'I_Khan', 'S_Sharif', 'S_Sharif','I_Khan', 'I_Khan', \n",
        "                    'S_Sharif', 'S_Sharif', 'S_Sharif', 'S_Sharif', 'S_Sharif', 'S_Sharif', \n",
        "                    'I_Khan', 'I_Khan', 'I_Khan', 'I_Khan', 'I_Khan', 'I_Khan',\n",
        "                    'S_Sharif', 'S_Sharif', 'I_Khan', 'I_Khan', 'I_Khan', 'S_Sharif',\n",
        "                    'S_Sharif', 'I_Khan', 'I_Khan', 'S_Sharif', 'S_Sharif', 'I_Khan', \n",
        "                    'I_Khan', 'S_Sharif', 'S_Sharif', 'S_Sharif', 'S_Sharif', 'S_Sharif',\n",
        "                    'S_Sharif', 'I_Khan','S_Sharif', 'S_Sharif', 'I_Khan', 'I_Khan', \n",
        "                    'I_Khan', 'S_Sharif', 'S_Sharif', 'I_Khan', 'I_Khan', 'S_Sharif', \n",
        "                    'S_Sharif', 'I_Khan', 'I_Khan', 'S_Sharif', 'S_Sharif', 'S_Sharif', \n",
        "                    'S_Sharif', 'S_Sharif', 'S_Sharif', 'I_Khan']\n",
        "\n",
        "\n",
        "#type your code here\n",
        "total_Khan = survey_responses.count('I_Khan')\n",
        "total_Khan"
      ],
      "execution_count": null,
      "outputs": [
        {
          "output_type": "execute_result",
          "data": {
            "text/plain": [
              "33"
            ]
          },
          "metadata": {
            "tags": []
          },
          "execution_count": 1
        }
      ]
    },
    {
      "cell_type": "markdown",
      "metadata": {
        "id": "9WGy8XkSgCst"
      },
      "source": [
        "3.Calculate the percentage of people in the survey who voted for I_Khan and save it to the variable percentage_I_Khan.\n",
        "\n",
        "Print the variable to the terminal to see its value."
      ]
    },
    {
      "cell_type": "code",
      "metadata": {
        "colab": {
          "base_uri": "https://localhost:8080/"
        },
        "id": "Wcc7heo6gCsu",
        "outputId": "84c2ba4c-ecf9-430e-d503-c706fdb9f6e3"
      },
      "source": [
        "#type your code here\n",
        "percentage_I_Khan = total_Khan/len(survey_responses)\n",
        "percentage_I_Khan*100"
      ],
      "execution_count": null,
      "outputs": [
        {
          "output_type": "execute_result",
          "data": {
            "text/plain": [
              "47.14285714285714"
            ]
          },
          "metadata": {
            "tags": []
          },
          "execution_count": 2
        }
      ]
    },
    {
      "cell_type": "markdown",
      "metadata": {
        "id": "31zKtUaogCsv"
      },
      "source": [
        "4.In the real election, 54% of the 10,000 town population voted for I_Khan. Your supervisors are concerned because this is a very different outcome than what the poll predicted. They want you to determine if there is something wrong with the poll or if given the sample size, it was an entirely reasonable result.\n",
        "\n",
        "Generate a binomial distribution that takes the number of total survey responses, the actual success rate, and the size of the town’s population as its parameters. Then divide the distribution by the number of survey responses. Save your calculation to the variable possible_surveys.\n",
        "\n",
        "######### hint###########\n",
        "possible_surveys = \n",
        "np.random.binomial(total of survey responses, the actual success rate,and the size of the town’s population ) "
      ]
    },
    {
      "cell_type": "code",
      "metadata": {
        "id": "1-EjC8ivgCsy",
        "colab": {
          "base_uri": "https://localhost:8080/"
        },
        "outputId": "52e9dcb5-0d6c-41ab-fcb2-469da37118c3"
      },
      "source": [
        "#type your code here\n",
        "possible_surveys = np.random.binomial(n=len(survey_responses),p=0.54,size=10000) /len(survey_responses)\n",
        "possible_surveys "
      ],
      "execution_count": null,
      "outputs": [
        {
          "output_type": "execute_result",
          "data": {
            "text/plain": [
              "array([0.58571429, 0.58571429, 0.5       , ..., 0.58571429, 0.55714286,\n",
              "       0.57142857])"
            ]
          },
          "metadata": {
            "tags": []
          },
          "execution_count": 5
        }
      ]
    },
    {
      "cell_type": "markdown",
      "metadata": {
        "id": "QKkt_SqVgCs4"
      },
      "source": [
        "\n",
        "      #######Optional########\n",
        "5.By using matplotlib Plot a histogram of possible_surveys with a range of 0-1 and 20 bins.\n"
      ]
    },
    {
      "cell_type": "code",
      "metadata": {
        "colab": {
          "base_uri": "https://localhost:8080/",
          "height": 367
        },
        "id": "beww2_UZgCs6",
        "outputId": "eb4d0de0-9a78-4cef-d0c2-c21d542d2449"
      },
      "source": [
        "#type your code here\n",
        "plt.hist(possible_surveys, ran)\n",
        "\n",
        "\n"
      ],
      "execution_count": null,
      "outputs": [
        {
          "output_type": "execute_result",
          "data": {
            "text/plain": [
              "(array([   3.,   37.,  170., 1290., 2280., 2834., 2611.,  622.,  126.,\n",
              "          27.]),\n",
              " array([0.28571429, 0.33285714, 0.38      , 0.42714286, 0.47428571,\n",
              "        0.52142857, 0.56857143, 0.61571429, 0.66285714, 0.71      ,\n",
              "        0.75714286]),\n",
              " <a list of 10 Patch objects>)"
            ]
          },
          "metadata": {
            "tags": []
          },
          "execution_count": 8
        },
        {
          "output_type": "display_data",
          "data": {
            "image/png": "[encoded data removed]",
            "text/plain": [
              "<Figure size 432x288 with 1 Axes>"
            ]
          },
          "metadata": {
            "tags": [],
            "needs_background": "light"
          }
        }
      ]
    },
    {
      "cell_type": "markdown",
      "metadata": {
        "id": "CyWBJ_XfgCs7"
      },
      "source": [
        "6.As we saw, 47% of people we surveyed said they would vote for I_Khan, but 54% of people voted for I_Khan in the actual election.\n",
        "\n",
        "Calculate the percentage of surveys that could have an outcome of I_Khan receiving less than 50% of the vote and save it to the variable I_Khan_loss_surveys.\n",
        "\n",
        "Print the variable to the terminal."
      ]
    },
    {
      "cell_type": "code",
      "metadata": {
        "colab": {
          "base_uri": "https://localhost:8080/"
        },
        "id": "6npS3V_OgCs8",
        "outputId": "64e3fa7e-7830-4308-c5d4-5ef091ee6c96"
      },
      "source": [
        "#type your code here\n",
        "I_Khan_loss_surveys=np.mean(possible_surveys < .5)\n",
        "print(\"I_Khan_loss_surveys: \",I_Khan_loss_surveys)\n",
        "possible_survey_length = float(len(possible_surveys))\n",
        "incorrect_predictions = len(possible_surveys[possible_surveys < .5])\n",
        "I_Khan_loss_surveys = incorrect_predictions / possible_survey_length\n",
        "total_I_Khan = sum([1 for n in survey_responses if n == 'I_Khan'])\n",
        "print(total_I_Khan)\n"
      ],
      "execution_count": null,
      "outputs": [
        {
          "output_type": "stream",
          "text": [
            "I_Khan_loss_surveys:  0.2129\n",
            "33\n"
          ],
          "name": "stdout"
        }
      ]
    },
    {
      "cell_type": "markdown",
      "metadata": {
        "id": "8TKnOogNgCs9"
      },
      "source": [
        "7.With this current poll, about 20% of the time a survey output would predict S_Sharif winning, even if I_Khan won the actual election.\n",
        "\n",
        "Your co-worker points out that your poll would be more accurate if it had more responders.\n",
        "\n",
        "Generate another binomial distribution, but this time, see what would happen if you had instead surveyed 7,000 people. Divide the distribution by the size of the survey and save your findings to large_survey.\n"
      ]
    },
    {
      "cell_type": "code",
      "metadata": {
        "id": "y0SgolEXgCs-",
        "colab": {
          "base_uri": "https://localhost:8080/",
          "height": 268
        },
        "outputId": "60875e61-68cb-486a-9781-62e1e5f7d34a"
      },
      "source": [
        "#type your code here\n",
        "#type your code here\n",
        "survey_length = 70\n",
        "large_surveys = np.random.binomial(survey_length,0.54, size=7000) / survey_length\n",
        "\n",
        "plt.hist(large_surveys, range=(0, 1), bins=20)\n",
        "plt.show()\n"
      ],
      "execution_count": null,
      "outputs": [
        {
          "output_type": "display_data",
          "data": {
            "image/png": "[encoded data removed]",
            "text/plain": [
              "<Figure size 432x288 with 1 Axes>"
            ]
          },
          "metadata": {
            "tags": [],
            "needs_background": "light"
          }
        }
      ]
    },
    {
      "cell_type": "markdown",
      "metadata": {
        "id": "S14IawtugCs-"
      },
      "source": [
        "8.Now, recalculate the percentage of surveys that would have an outcome of I_Khan losing and save it to the variable I_Khan_loss_new, and print the value to the terminal.\n",
        "\n",
        "What do we notice about this new value?\n",
        "\n",
        "What advice would you give to your supervisors about predicting results from surveys?\n"
      ]
    },
    {
      "cell_type": "code",
      "metadata": {
        "id": "QWT8rBHPgCs_",
        "colab": {
          "base_uri": "https://localhost:8080/"
        },
        "outputId": "85acac59-1da9-4d10-c2f8-8f23c23c27f4"
      },
      "source": [
        "#type your code here\n",
        "\n",
        "I_Khan_loss_new = np.mean(large_surveys < 0.5)     1. Data should be handled properly there shouldn't be any biasedness in it \n",
        "print(I_Khan_loss_new)                             2. Missing data should be handled properly \n",
        "                                                     3. Quality of data should be reliable & valid, pretesting should be done, margin of error be tolerated 0.5\n"
      ],
      "execution_count": null,
      "outputs": [
        {
          "output_type": "stream",
          "text": [
            "0.2257142857142857\n"
          ],
          "name": "stdout"
        }
      ]
    }
  ]
}